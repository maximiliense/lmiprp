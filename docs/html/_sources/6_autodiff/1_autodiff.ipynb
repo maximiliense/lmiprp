{
 "cells": [
  {
   "cell_type": "markdown",
   "id": "acknowledged-cylinder",
   "metadata": {},
   "source": [
    "# La différentiation automatique et un début de *deep learning* ☕️"
   ]
  },
  {
   "cell_type": "markdown",
   "id": "worthy-webcam",
   "metadata": {},
   "source": [
    "Quelques liens pour aller plus loin :\n",
    "* [Autodiff](https://github.com/maximiliense/lmpirp/blob/main/Notes/Automatic_differentiation.pdf)"
   ]
  },
  {
   "cell_type": "markdown",
   "id": "logical-resource",
   "metadata": {},
   "source": [
    "## Introduction\n",
    "\n",
    "Comme vu précédemment, un grand nombre de modèles de *machine learning* s'appuient sur des algorithmes d'optimisation de type \"descente de gradient\". Ces algorithmes requièrent le calcul du gradient à chaque itération. Nous avons pu voir pour la régression linéaire et la régression logistique que cela était assez fastidieux. Ainsi, en pratique, on ne se sert que de modèles déjà codés et où il n'est pas nécessaire de fournir le gradient.\n",
    "\n",
    "Le *deep learning*, à l'inverse, s'appuie sur une quantité incroyable de modèles, customisés à la moindre occasion. Le *deep learning* n'échappe pas à la règle et est également optimisé au travers d'algorithmes d'optimisation de type \"descente de gradient\". Heureusement, il n'est pas nécessaire de calculer le gradient à la main de ces fonctions immenses. Les *frameworks* de *deep learning* sont en effet avant tout des *frameworks* de différentiation automatique."
   ]
  },
  {
   "cell_type": "markdown",
   "id": "seeing-milan",
   "metadata": {},
   "source": [
    "## Premiers tests avec Pytorch"
   ]
  },
  {
   "cell_type": "code",
   "execution_count": 1,
   "id": "final-colony",
   "metadata": {},
   "outputs": [],
   "source": [
    "import torch"
   ]
  },
  {
   "cell_type": "markdown",
   "id": "amber-istanbul",
   "metadata": {},
   "source": [
    "<span style=\"color:blue\">**Exercice 1 :**</span> **Commençons simple. Soit la fonction suivante :**\n",
    "\n",
    "$$f(x)=3x+5$$\n",
    "\n",
    "**Calculer $\\partial f(0)/\\partial x$ à la main et via *torch*.**"
   ]
  },
  {
   "cell_type": "code",
   "execution_count": 2,
   "id": "soviet-worse",
   "metadata": {},
   "outputs": [
    {
     "name": "stdout",
     "output_type": "stream",
     "text": [
      "La derivee en 0 de f est 3.0\n"
     ]
    }
   ],
   "source": [
    "####### Complete this part ######## or die ####################\n",
    "def f(x):\n",
    "    return 3*x+5\n",
    "\n",
    "x = torch.tensor(0., requires_grad=True)\n",
    "\n",
    "f(x).backward()\n",
    "###############################################################\n",
    "print('La derivee en 0 de f est', float(x.grad))"
   ]
  },
  {
   "cell_type": "markdown",
   "id": "mathematical-switzerland",
   "metadata": {},
   "source": [
    "<span style=\"color:blue\">**Exercice 2 :**</span> **Un tout petit peu plus compliqué. Soit la fonction suivante :**\n",
    "\n",
    "$$f(x)=2^x$$\n",
    "\n",
    "**Calculer $\\partial f(0)/\\partial x$  et $\\partial f(1)/\\partial x$ à la main et via *torch*.**"
   ]
  },
  {
   "cell_type": "code",
   "execution_count": 4,
   "id": "guided-crack",
   "metadata": {},
   "outputs": [
    {
     "name": "stdout",
     "output_type": "stream",
     "text": [
      "La derivee en 0 de f est 0.6931471824645996\n",
      "La derivee en 1 de f est 1.3862943649291992\n"
     ]
    }
   ],
   "source": [
    "####### Complete this part ######## or die ####################\n",
    "def f(x):\n",
    "    return 2**x\n",
    "\n",
    "x = torch.tensor(0., requires_grad=True)\n",
    "f(x).backward()\n",
    "###############################################################\n",
    "print('La derivee en 0 de f est', float(x.grad))\n",
    "\n",
    "####### Complete this part ######## or die ####################\n",
    "x = torch.tensor(1., requires_grad=True)\n",
    "f(x).backward()\n",
    "###############################################################\n",
    "print('La derivee en 1 de f est', float(x.grad))"
   ]
  },
  {
   "cell_type": "markdown",
   "id": "grateful-responsibility",
   "metadata": {},
   "source": [
    "<span style=\"color:blue\">**Exercice 3 :**</span> **Encore un peu plus compliqué, le gradient des moindres carrés. Calculer $\\partial f(0)/\\partial \\boldsymbol{\\beta}$ en utilisant les résultats des TPs précedents.**"
   ]
  },
  {
   "cell_type": "code",
   "execution_count": 6,
   "id": "mexican-greece",
   "metadata": {},
   "outputs": [],
   "source": [
    "real_beta = torch.rand(size=(2, 1))*2-1\n",
    "\n",
    "def sample_data(n):\n",
    "    X = torch.rand(size=(n, 2))\n",
    "    y = torch.matmul(X, real_beta) + torch.randn(size=(n, 1))\n",
    "    return X, y\n",
    "\n",
    "X, y = sample_data(10)"
   ]
  },
  {
   "cell_type": "code",
   "execution_count": 7,
   "id": "bridal-guidance",
   "metadata": {},
   "outputs": [
    {
     "name": "stdout",
     "output_type": "stream",
     "text": [
      "Le gradient \"a la main\" est :\n",
      " tensor([[-7.2263],\n",
      "        [-5.0116]])\n",
      "Le gradient via auto-differentiation:\n",
      " tensor([[-7.2263],\n",
      "        [-5.0116]])\n"
     ]
    }
   ],
   "source": [
    "beta = torch.zeros(size=(2, 1), requires_grad=True)\n",
    "\n",
    "print('Le gradient \"a la main\" est :\\n', -2*torch.matmul(X.transpose(1, 0), y))\n",
    "\n",
    "####### Complete this part ######## or die ####################\n",
    "def least_square(param):\n",
    "    errors = (torch.matmul(X, param)-y) ** 2\n",
    "    return errors.sum()\n",
    "\n",
    "least_square(beta).backward()\n",
    "###############################################################\n",
    "\n",
    "print('Le gradient via auto-differentiation:\\n', beta.grad)"
   ]
  },
  {
   "cell_type": "markdown",
   "id": "saving-karaoke",
   "metadata": {},
   "source": [
    "## La descente de gradient et plus\n",
    "\n",
    "L'algorithme de descente de gradient, dans sa vesion la plus simple, consiste à se déplacer dans le sens opposé au gradient $\\nabla \\mathcal{L}(\\beta)$ à une vitesse proportionnelle au \"pas\" $\\eta>0$. Dit autrement, l'opération de mise à jour s'exprime de la manière suivante :\n",
    "\n",
    "$$\\beta^{(t)}=\\beta^{(t-1)}-\\eta\\nabla\\mathcal{L}(\\beta^{(t-1)})$$\n",
    "\n",
    "\n",
    "Différentes stratégies ont été proposées afin d'améliorer les performances de l'algorithme. On peut citer le *momentum* qui consiste à conserver une inertie permettant de controller les phénomènes d'oscillation qui pourraient apparaître. De manière plus précise, transforme l'étape d'itération de la descente de gradient de la manière suivante :\n",
    "\n",
    "$$\\begin{aligned}\n",
    "z^{(t)}&=\\rho z^{(t-1)}+\\nabla\\mathcal{L}(\\beta^{(t-1)})\\\\\n",
    "\\beta^{(t)}&=\\beta^{(t-1)}-\\eta z^{(t)}\n",
    "\\end{aligned}$$\n",
    "\n",
    "\n",
    "où $\\rho$ est le paramètre du *momentum* et $\\eta$ le pas d'optimisation. On remarque que si $\\rho=0$, on retombe bien sur la descente de gradient traditionnelle. Cependant, si $\\rho>0$  (généralement $<1$), le pas d'optimisation devient une combinaison linéaire entre le gradient à l'itération courante et les gradients des itérations précédentes. En effet, on a bien $z^{(1)}=\\rho\\cdot 0+\\nabla\\mathcal{L}(\\beta^{(0)})=\\mathcal{L}(\\beta^{(0)})$, puis $z^{(2)}=\\rho\\cdot \\mathcal{L}(\\beta^{(0)})+\\mathcal{L}(\\beta^{(1)})$, puis $z^{(3)}=\\rho^2\\cdot\\mathcal{L}(\\beta^{(0)})+\\rho\\cdot\\mathcal{L}(\\beta^{(1)})+\\mathcal{L}(\\beta^{(2)})$, etc. Ainsi, si les gradients commencent à s'inverser d'une itération à l'autre (on oscille), la somme tendra à atténuer cet effet et la direction de mise à jour sera plus stable.\n",
    "\n",
    "\n",
    "Les librairies comme *torch* proposent de gérer tout cela sans que nous ayons à nous en occuper via, par exemple, la classe $\\texttt{optim.SGD}$.\n",
    "\n",
    "---\n",
    "<span style=\"color:blue\">**Exercice 1 :**</span> **Complétez la méthode $\\texttt{optimize}$ de la classe LeastSquare ci-dessous. Le tableau $\\texttt{loss_values}$ doit contenir les valeurs obtenues à chaque itération.**\n",
    "\n",
    "---"
   ]
  },
  {
   "cell_type": "code",
   "execution_count": 8,
   "id": "amazing-decision",
   "metadata": {},
   "outputs": [],
   "source": [
    "from torch.optim import SGD\n",
    "\n",
    "class LeastSquare(object):\n",
    "    def __init__(self, X, y):\n",
    "        self.X = X\n",
    "        self.y = y\n",
    "        self.beta = None\n",
    "\n",
    "    def loss(self, beta):\n",
    "        errors = (torch.matmul(self.X, beta)-self.y) ** 2\n",
    "        return errors.sum()/self.X.shape[0]\n",
    "\n",
    "    def predict(self, x):\n",
    "        if self.beta is not None:\n",
    "            return torch.matmul(x, self.beta)\n",
    "\n",
    "    def optimize(self, nb_iterations=40, momentum=0.0, lr=0.1):\n",
    "\n",
    "        self.beta = torch.zeros(size=(2, 1), requires_grad=True).float()\n",
    "        ####### Complete this part ######## or die ####################\n",
    "        optimizer = SGD([self.beta], lr=lr, momentum=momentum)\n",
    "\n",
    "        loss_values = []\n",
    "\n",
    "        for it in range(nb_iterations):\n",
    "            optimizer.zero_grad()\n",
    "            l = self.loss(self.beta)\n",
    "            loss_values.append(l.data)\n",
    "            l.backward()\n",
    "            optimizer.step() #beta = beta - learning_rate*self.beta.grad\n",
    "        ###############################################################\n",
    "        return loss_values\n",
    "\n",
    "loss = LeastSquare(X, y)\n",
    "val_nomomentum = loss.optimize(lr=0.2)\n",
    "val_momentum = loss.optimize(momentum=0.3, lr=1.)"
   ]
  },
  {
   "cell_type": "code",
   "execution_count": 9,
   "id": "scheduled-rental",
   "metadata": {},
   "outputs": [
    {
     "data": {
      "image/png": "[encoded data removed]",
      "text/plain": [
       "<Figure size 864x576 with 1 Axes>"
      ]
     },
     "metadata": {},
     "output_type": "display_data"
    }
   ],
   "source": [
    "import matplotlib\n",
    "import matplotlib.pyplot as plt\n",
    "\n",
    "# configuration generale de matplotlib\n",
    "%matplotlib inline\n",
    "matplotlib.rcParams['figure.figsize'] = (12.0, 8.0)\n",
    "plt.style.use('ggplot')\n",
    "\n",
    "plt.figure()\n",
    "plt.plot([i for i in range(1, len(val_nomomentum)+1)], val_nomomentum, label='No momentum')\n",
    "plt.plot([i for i in range(1, len(val_momentum)+1)], val_momentum, label='Momentum')\n",
    "plt.legend()\n",
    "plt.show()"
   ]
  },
  {
   "cell_type": "markdown",
   "id": "advanced-arbor",
   "metadata": {},
   "source": [
    "<span style=\"color:blue\">**Question :**</span> **Comment expliquez-vous qu'un *momentum* bien configuré puisse accélérer l'optimisation ? Inspirez-vous de ce lien pour bien comprendre l'effet du *momentum* : [Animation momentum](https://distill.pub/2017/momentum/).**"
   ]
  },
  {
   "cell_type": "markdown",
   "id": "recent-rider",
   "metadata": {},
   "source": [
    "## Le *deep learning*\n",
    "\n",
    "N'hésitez pas à passer via [http://colab.research.google.com](http://colab.research.google.com) pour les exercices qui suivent.\n",
    "\n",
    "### Imports et quelques méthodes utiles"
   ]
  },
  {
   "cell_type": "code",
   "execution_count": 10,
   "id": "protected-youth",
   "metadata": {},
   "outputs": [],
   "source": [
    "book = True"
   ]
  },
  {
   "cell_type": "code",
   "execution_count": 11,
   "id": "eight-intervention",
   "metadata": {},
   "outputs": [],
   "source": [
    "if not book:\n",
    "    import torch\n",
    "    import torchvision\n",
    "    import torch.nn as nn\n",
    "    from torchvision import datasets\n",
    "    from torch.utils.data import DataLoader\n",
    "    import torchvision.transforms as transforms\n",
    "\n",
    "    import numpy as np"
   ]
  },
  {
   "cell_type": "markdown",
   "id": "frank-chest",
   "metadata": {},
   "source": [
    "### CIFAR10\n",
    "\n",
    "D'extérieur complexe, le *deep learning* n'est en réalité qu'une composition et une combinaison linéaire de fonctions plus élémentaires comme celles que nous avons vu jusque là. Récupérons un jeu de données connu : $\\texttt{CIFAR10}$.\n",
    "\n",
    "#### Le dataset et le dataloader\n",
    "L'un contient les accès aux données brutes. Et l'autre sert a charger dynamiquement et dans un ordre aléatoire les batchs.\n",
    "\n",
    "L'objet $\\texttt{transform}$ permettra de normaliser les données qui seront données à notre modèle. En $\\texttt{pytorch}$, les données sont gérées par un *data loader*. En effet, on ne traite que très rarement tout le jeu de données d'un coup. On estime plutôt le gradient via un *batch* de données. De meilleurs résultats sont généralement observés lorsque le jeu de données est mélangé entre chaque itération d'optimisation. \n",
    "\n",
    "Regardons le jeu de données que nous sommes entrain de manipuler."
   ]
  },
  {
   "cell_type": "code",
   "execution_count": 12,
   "id": "filled-scanning",
   "metadata": {},
   "outputs": [],
   "source": [
    "if not book:\n",
    "    # label names\n",
    "    classes = ('plane', 'car', 'bird', 'cat', 'deer', 'dog', 'frog', 'horse', 'ship', 'truck')\n",
    "\n",
    "    transform = transforms.Compose(\n",
    "      [\n",
    "          transforms.ToTensor(),\n",
    "          transforms.Normalize((0.5, 0.5, 0.5), (0.5, 0.5, 0.5))\n",
    "      ]\n",
    "    )\n",
    "\n",
    "    batch_size = 128\n",
    "\n",
    "    #root_directory where images are.\n",
    "    trainset = datasets.CIFAR10(root='./data', train=True, download=True, transform=transform)\n",
    "\n",
    "    trainloader = DataLoader(\n",
    "      trainset, batch_size=batch_size\n",
    "    )\n",
    "\n",
    "    testset = datasets.CIFAR10(root='./data', train=False, download=True, transform=transform)\n",
    "    testloader = DataLoader(\n",
    "      testset, batch_size=batch_size, shuffle=True\n",
    "    )\n",
    "\n",
    "    print('Nb test batchs:', len(testloader))"
   ]
  },
  {
   "cell_type": "code",
   "execution_count": 13,
   "id": "commercial-thinking",
   "metadata": {},
   "outputs": [],
   "source": [
    "if not book:\n",
    "    #### Visualisation d'images du jeu de données\n",
    "    import matplotlib.pyplot as plt\n",
    "    import numpy as np\n",
    "\n",
    "    def imshow(images, labels, predicted=None):\n",
    "        plt.figure(figsize=(15, 10))\n",
    "        for idx in range(8):\n",
    "            plt.subplot(2, 4, idx+1)\n",
    "            plt.axis('off')\n",
    "            img = (images[idx] * 0.224 + 0.456)#/ 2 + 0.5  # unnormalize\n",
    "            npimg = img.numpy()\n",
    "            plt.axis('off')\n",
    "            plt.imshow(np.transpose(npimg, (1, 2, 0)))\n",
    "            title = str(classes[labels[idx]]) + \\\n",
    "            ('' if predicted is None else ' - ' + str(classes[predicted[idx]]))\n",
    "            plt.title(title)\n",
    "\n",
    "        plt.show()"
   ]
  },
  {
   "cell_type": "code",
   "execution_count": 14,
   "id": "eleven-investor",
   "metadata": {},
   "outputs": [],
   "source": [
    "if not book:\n",
    "    #### Visualisation d'images du jeu de données\n",
    "    import matplotlib.pyplot as plt\n",
    "    import numpy as np\n",
    "\n",
    "    # get some random training images\n",
    "\n",
    "    dataiter = iter(testloader)\n",
    "    images, labels = dataiter.next()\n",
    "\n",
    "    # show images\n",
    "    imshow(images[:8], labels[:8])"
   ]
  },
  {
   "cell_type": "markdown",
   "id": "prescription-assist",
   "metadata": {},
   "source": [
    "#### Definition du model: la fonction de prediction"
   ]
  },
  {
   "cell_type": "code",
   "execution_count": 15,
   "id": "disciplinary-timber",
   "metadata": {},
   "outputs": [],
   "source": [
    "if not book:\n",
    "    import torch.nn as nn\n",
    "    import torch.nn.functional as F\n",
    "    from torchvision import models, transforms\n",
    "\n",
    "    class Net(nn.Module):\n",
    "        def __init__(self):\n",
    "            super(Net, self).__init__()\n",
    "            self.conv1 = nn.Conv2d(3, 16, 5)\n",
    "            self.pool = nn.MaxPool2d(2, 2)\n",
    "            self.conv2 = nn.Conv2d(16, 32, 5)\n",
    "            self.fc1 = nn.Linear(32 * 5 * 5, 120)\n",
    "            self.fc2 = nn.Linear(120, 84)\n",
    "            self.fc = nn.Linear(84, 10)\n",
    "\n",
    "        def forward(self, x):\n",
    "            x = self.pool(F.relu(self.conv1(x)))\n",
    "            x = self.pool(F.relu(self.conv2(x)))\n",
    "            x = x.view(-1, 32 * 5 * 5)\n",
    "            x = F.relu(self.fc1(x))\n",
    "            x = F.relu(self.fc2(x))\n",
    "            x = self.fc(x)\n",
    "            return x"
   ]
  },
  {
   "cell_type": "code",
   "execution_count": 16,
   "id": "reasonable-swift",
   "metadata": {},
   "outputs": [],
   "source": [
    "if not book:\n",
    "    model = Net()\n",
    "    # model = model.cuda()"
   ]
  },
  {
   "cell_type": "markdown",
   "id": "fabulous-rider",
   "metadata": {},
   "source": [
    "#### Definition de la fonction objectif pour l'apprentissage ainsi que la méthode d'optimisation (SGD)"
   ]
  },
  {
   "cell_type": "code",
   "execution_count": 17,
   "id": "running-damage",
   "metadata": {},
   "outputs": [],
   "source": [
    "if not book:\n",
    "    import torch.optim as optim\n",
    "    from torch.optim.lr_scheduler import MultiStepLR\n",
    "\n",
    "    #Choose the loss function\n",
    "    criterion = nn.CrossEntropyLoss()\n",
    "\n",
    "    #Optimizer\n",
    "    optimizer = optim.SGD(model.parameters(), lr=0.01, momentum=0.9, weight_decay=0.0005)"
   ]
  },
  {
   "cell_type": "markdown",
   "id": "demonstrated-yellow",
   "metadata": {},
   "source": [
    "#### Routine d'apprentissage avec évaluation de la précision sur l'ensemble de validation\n",
    "\n",
    "---\n",
    "<span style=\"color:blue\">**Exercice 1 :**</span> **Proposez le code permettant d'optimiser votre réseau pendant deux *epochs*.**\n",
    "\n",
    "---"
   ]
  },
  {
   "cell_type": "code",
   "execution_count": 18,
   "id": "southwest-raise",
   "metadata": {},
   "outputs": [],
   "source": [
    "if not book:\n",
    "    ####### Complete this part ######## or die ####################\n",
    "    loss_history = []\n",
    "    for epoch in range(2):  # loop over the dataset multiple times\n",
    "\n",
    "        running_loss = 0.0\n",
    "        for i, data in enumerate(trainloader, 0):\n",
    "            # get the inputs; data is a list of [inputs, labels]\n",
    "            inputs, labels = data\n",
    "\n",
    "            # zero the parameter gradients\n",
    "            optimizer.zero_grad()\n",
    "\n",
    "            # forward + backward + optimize\n",
    "            outputs = model(inputs)\n",
    "            loss = criterion(outputs, labels)\n",
    "            loss.backward()\n",
    "            optimizer.step()\n",
    "\n",
    "            # print statistics\n",
    "            running_loss += loss.item()\n",
    "            if i % 10 == 9:  # print every 2000 mini-batches\n",
    "                print('\\r[%d, %5d] loss: %.3f' % (epoch + 1, i + 1, running_loss / 2000), end='')\n",
    "                loss_history.append(running_loss / 2000)\n",
    "                running_loss = 0.0\n",
    "    print('\\r**** Finished Training ****')\n",
    "    plt.figure()\n",
    "    plt.plot([i for i in range(1, len(loss_history)+1)], loss_history, \n",
    "             label='My first convolutional neural network')\n",
    "    plt.legend()\n",
    "    plt.show()\n",
    "###############################################################"
   ]
  },
  {
   "cell_type": "code",
   "execution_count": 19,
   "id": "random-wealth",
   "metadata": {},
   "outputs": [],
   "source": [
    "if not book:\n",
    "    torch.save(model.state_dict(), 'my_model.torch')"
   ]
  },
  {
   "cell_type": "code",
   "execution_count": 20,
   "id": "southern-latest",
   "metadata": {},
   "outputs": [],
   "source": [
    "if not book:\n",
    "    model = Net()\n",
    "    model.load_state_dict(torch.load('my_model.torch'))"
   ]
  },
  {
   "cell_type": "markdown",
   "id": "realistic-express",
   "metadata": {},
   "source": [
    "#### Quelques prédictions"
   ]
  },
  {
   "cell_type": "code",
   "execution_count": 21,
   "id": "simple-bubble",
   "metadata": {},
   "outputs": [],
   "source": [
    "if not book:\n",
    "    dataiter = iter(testloader)\n",
    "    images, labels = dataiter.next()\n",
    "    outputs = model(images)  # we use the loaded model\n",
    "    _, predicted = torch.max(outputs, 1)\n",
    "\n",
    "\n",
    "    # show images\n",
    "    imshow(images[:8], labels[:8], predicted[:8])"
   ]
  },
  {
   "cell_type": "markdown",
   "id": "magnetic-devon",
   "metadata": {},
   "source": [
    "#### Test du modèle sur le jeu de test"
   ]
  },
  {
   "cell_type": "code",
   "execution_count": 23,
   "id": "acoustic-cassette",
   "metadata": {},
   "outputs": [],
   "source": [
    "if not book:\n",
    "    def test(model, loader, title):\n",
    "        model.eval()  # on passe le modele en mode evaluation\n",
    "        correct = 0\n",
    "        total = 0\n",
    "        with torch.no_grad():\n",
    "            for data in loader:\n",
    "                images, labels = data\n",
    "                outputs = model(images)\n",
    "                predicted = torch.nn.functional.softmax(outputs, dim=1).max(dim=1)\n",
    "\n",
    "                total += labels.size(0)\n",
    "                correct += (predicted[1] == labels).sum().item()\n",
    "\n",
    "        model.train()  # on remet le modele en mode apprentissage\n",
    "        print('Accuracy du modele sur le jeu de ', title, ': %.2f' % (correct / total))"
   ]
  },
  {
   "cell_type": "code",
   "execution_count": 24,
   "id": "cultural-peeing",
   "metadata": {},
   "outputs": [],
   "source": [
    "if not book:\n",
    "    test(model, testloader, 'test')"
   ]
  },
  {
   "cell_type": "code",
   "execution_count": null,
   "id": "about-professional",
   "metadata": {},
   "outputs": [],
   "source": []
  }
 ],
 "metadata": {
  "kernelspec": {
   "display_name": "Python 3",
   "language": "python",
   "name": "python3"
  },
  "language_info": {
   "codemirror_mode": {
    "name": "ipython",
    "version": 3
   },
   "file_extension": ".py",
   "mimetype": "text/x-python",
   "name": "python",
   "nbconvert_exporter": "python",
   "pygments_lexer": "ipython3",
   "version": "3.9.4"
  }
 },
 "nbformat": 4,
 "nbformat_minor": 5
}
