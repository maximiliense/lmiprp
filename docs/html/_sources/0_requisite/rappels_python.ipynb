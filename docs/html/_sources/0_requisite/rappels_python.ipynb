{
 "cells": [
  {
   "cell_type": "markdown",
   "metadata": {},
   "source": [
    "# Rappels de Python et Numpy"
   ]
  },
  {
   "cell_type": "markdown",
   "metadata": {},
   "source": [
    "## Introduction"
   ]
  },
  {
   "cell_type": "markdown",
   "metadata": {},
   "source": [
    "Les modèles d'apprentissage, comme beaucoup d'autres que vous verrez (comme les modèles profonds), mettent en oeuvre des opérations sur les données d'entrées telles que des applications linéaires, des non-linéarités, des opérations d'agrégation etc... Dans votre longue carrière d'expert en Machine Learning, vous serez donc souvent amenés à manipuler des jeux de données vectoriels et à effectuer toutes sortes d'opérations et calculs sur ceux-ci. C'est pourquoi vous vous familiariserez dans un premier temps dans ce TP avec la librairie python $\\texttt{numpy}$ qui implémente de multiples fonctions de calculs scientifiques.\n",
    "\n",
    "Ce TP est divisé en deux parties. La première partie consiste simplement en un rappel des types de base en python (nombres entiers, flottant, booléens, liste) ainsi que des opérations élémentaires que l'on peut effectuer sur ces objets. Prenez un moment pour bien vérifier que ces opérations de base vous soient bien acquises. La deuxième partie de l'exercice consiste à apprendre à effectuer des opérations sur les matrices et les vecteurs avec l'aide de la bibliothèque $\\texttt{numpy}$, un outil crucial pour faire du calcul scientifique en python."
   ]
  },
  {
   "cell_type": "markdown",
   "metadata": {},
   "source": [
    "## I. Opérations et structures numériques de base en python"
   ]
  },
  {
   "cell_type": "markdown",
   "metadata": {},
   "source": [
    "### Exemples d'opération sur les nombres"
   ]
  },
  {
   "cell_type": "markdown",
   "metadata": {},
   "source": [
    "**Déclarer un entier**"
   ]
  },
  {
   "cell_type": "code",
   "execution_count": null,
   "metadata": {},
   "outputs": [],
   "source": [
    "x = 3\n",
    "print(\"x = %d\" % x)\n",
    "print(\"Le type de x est type(x): %s\" % type(x)) "
   ]
  },
  {
   "cell_type": "markdown",
   "metadata": {},
   "source": [
    "**Déclarer un flottant**"
   ]
  },
  {
   "cell_type": "code",
   "execution_count": null,
   "metadata": {},
   "outputs": [],
   "source": [
    "y = 4.2\n",
    "print(\"y = %d\" % y)\n",
    "print(\"y = %.1f\" % y)\n",
    "print(\"Le type de y est type(y): %s\" % type(y)) "
   ]
  },
  {
   "cell_type": "markdown",
   "metadata": {},
   "source": [
    "**Exemples d'opérations**"
   ]
  },
  {
   "cell_type": "code",
   "execution_count": null,
   "metadata": {},
   "outputs": [],
   "source": [
    "#### Exemple d'addition\n",
    "print(\"x + 1 = %d\" % (x+1))\n",
    "\n",
    "#### Exemple d'addition entre int et float (le resultat est au format float)\n",
    "print(\"x + y = %.3f\" % (x+y))     \n",
    "\n",
    "#### Incrémentation\n",
    "x += 2\n",
    "print(\"La nouvelle valeur de x = %d\" % x) \n",
    "\n",
    "### Puissance d'un entier\n",
    "print(\"x a la puissance 2: x**2 = %d\" % (x**2))"
   ]
  },
  {
   "cell_type": "markdown",
   "metadata": {},
   "source": [
    "### Les booléens"
   ]
  },
  {
   "cell_type": "code",
   "execution_count": null,
   "metadata": {},
   "outputs": [],
   "source": [
    "t = True\n",
    "f = False\n",
    "\n",
    "print(type(f)) \n",
    "print(t and f) \n",
    "print(t or f)  \n",
    "print(not t) \n",
    "\n",
    "x=3; y=2\n",
    "print(x == y) \n",
    "print(x==3)  "
   ]
  },
  {
   "cell_type": "markdown",
   "metadata": {},
   "source": [
    "### Les listes"
   ]
  },
  {
   "cell_type": "markdown",
   "metadata": {},
   "source": [
    "#### Déclarer une liste vide"
   ]
  },
  {
   "cell_type": "code",
   "execution_count": null,
   "metadata": {},
   "outputs": [],
   "source": [
    "l_empty = []\n",
    "print(l_empty)"
   ]
  },
  {
   "cell_type": "markdown",
   "metadata": {},
   "source": [
    "#### Déclarer une liste contenant des éléments"
   ]
  },
  {
   "cell_type": "code",
   "execution_count": null,
   "metadata": {},
   "outputs": [],
   "source": [
    "l = [11, 5, 9, 10]\n",
    "print(l)"
   ]
  },
  {
   "cell_type": "markdown",
   "metadata": {},
   "source": [
    "#### Accéder au i$^\\text{ème}$ élément d'une liste"
   ]
  },
  {
   "cell_type": "code",
   "execution_count": null,
   "metadata": {},
   "outputs": [],
   "source": [
    "l[0]"
   ]
  },
  {
   "cell_type": "markdown",
   "metadata": {},
   "source": [
    "#### Affichage du nombre d'éléments dans la liste"
   ]
  },
  {
   "cell_type": "code",
   "execution_count": null,
   "metadata": {},
   "outputs": [],
   "source": [
    "print(\"Le nombre d'elements dans l est len(l): %d\" % len(l))\n",
    "print(\"Le nombre d'elements dans l_empty est len(l_empty): %d\" % len(l_empty))\n",
    "print(\"Le dernier element de la liste est l[-1] = %d\" % l[-1])"
   ]
  },
  {
   "cell_type": "markdown",
   "metadata": {},
   "source": [
    "#### Parcourir les éléments d'une liste\n",
    "\n",
    "On boucle sur les éléments de $\\texttt{l}$ pour les afficher un par un :"
   ]
  },
  {
   "cell_type": "code",
   "execution_count": null,
   "metadata": {},
   "outputs": [],
   "source": [
    "for i in range(len(l)):\n",
    "    print(l[i])"
   ]
  },
  {
   "cell_type": "code",
   "execution_count": null,
   "metadata": {},
   "outputs": [],
   "source": [
    "for i in l:\n",
    "    print(i)"
   ]
  },
  {
   "cell_type": "markdown",
   "metadata": {},
   "source": [
    "On boucle sur les éléments de $\\texttt{l}$ pour les afficher un à un avec leur indice correspondant avec la primitive '$\\texttt{enumerate}$'"
   ]
  },
  {
   "cell_type": "code",
   "execution_count": null,
   "metadata": {},
   "outputs": [],
   "source": [
    "for i, e in enumerate(l):\n",
    "    print(\"Le %d eme element de la liste est l[%d] = %d\" % (i, i, l[i]) )"
   ]
  },
  {
   "cell_type": "markdown",
   "metadata": {},
   "source": [
    "## II. Manipulation des matrices et vecteurs avec Numpy"
   ]
  },
  {
   "cell_type": "code",
   "execution_count": null,
   "metadata": {},
   "outputs": [],
   "source": [
    "import numpy as np"
   ]
  },
  {
   "cell_type": "markdown",
   "metadata": {},
   "source": [
    "Dans cet exercice, nous allons étudier les opérations de bases nécessaires pour apprendre les paramètres d'une régression linéaire ainsi qu'effectuer des prédictions à partir du modèle appris. $\\texttt{Numpy}$ est une bibliothèque logicielle open source qui fournit de multiples fonctions permettant notamment de manipuler et effectuer des opérations sur des structures matricielles et vectorielles. En Numpy, ces structures peuvent être obtenues à l'aide du même objet générique qui permet d'instancier n'importe quel tableau multidimensionnel : $\\texttt{Ndarray}$.\n",
    "\n",
    "$\\texttt{Ndarray}$ est l'objet principal de NumPy, il s'agit d'une table d'éléments (généralement des nombres), tous du même type, indexés par un tuple d'entiers positifs (commençant par $0$, contrairement Matlab ou $\\texttt{R}$). Les dimensions de la structure sont appelées axes. Ainsi, les vecteurs et les matrices peuvent être instanciés de manière générique avec un Ndarray comprenant respectivement 1 et 2 axes - ou un axe de dimension $1$. \n",
    "\n",
    "### Opérations sur les vecteurs\n",
    "Nous allons apprendre à créer et manipuler des vecteurs avec $\\texttt{Numpy}$. Les premières lignes du code servent simplement à comprendre les bases. Vous aurez ensuite à répondre à une série de questions pour apprendre à effectuer certaines opérations sur les vecteurs.\n",
    "\n",
    "**Instancier des vecteurs :**\n",
    "Il existe différentes manières de déclarer et instancier un vecteur d'un espace de dimension donnée. Les premières lignes de cette partie du code vous donnent différents exemples."
   ]
  },
  {
   "cell_type": "code",
   "execution_count": null,
   "metadata": {},
   "outputs": [],
   "source": [
    "print(\"Instantiation d'un vecteur R^2 (2 dimension reelles):\") \n",
    "np.ndarray(2)"
   ]
  },
  {
   "cell_type": "code",
   "execution_count": null,
   "metadata": {},
   "outputs": [],
   "source": [
    "print(\"Vecteur nul dans R^2 (2 dimension reelles):\") \n",
    "np.zeros(2)"
   ]
  },
  {
   "cell_type": "code",
   "execution_count": null,
   "metadata": {},
   "outputs": [],
   "source": [
    "print(\"Vecteur remplie de 1 dans R^5:\")   \n",
    "np.ones(5)"
   ]
  },
  {
   "cell_type": "code",
   "execution_count": null,
   "metadata": {},
   "outputs": [],
   "source": [
    "print(\"Vecteur dans R^4 contenant des valeurs aléatoires:\")  #     \n",
    "x = np.random.random(4)\n",
    "print(x)"
   ]
  },
  {
   "cell_type": "markdown",
   "metadata": {},
   "source": [
    "Attention, les instanciations précédentes ne permettent pas de différentier les vecteurs lignes et les vecteurs colonnes. Pour cela, il faut rajouter une seconde dimension de dimension $1$ de la manière suivante :"
   ]
  },
  {
   "cell_type": "code",
   "execution_count": null,
   "metadata": {},
   "outputs": [],
   "source": [
    "print(\"Instantiation d'un vecteur R^2 (2 dimension reelles):\") \n",
    "v = np.ndarray((2, 1))\n",
    "print('v est un vecteur colonne:\\n', v)\n",
    "print('v.T est un vecteur ligne:\\n', v.T)"
   ]
  },
  {
   "cell_type": "markdown",
   "metadata": {},
   "source": [
    "Vous avez pu constater que nous avons utilisé la méthode $\\texttt{.T}$ qui nous a permis d'obtenir la transposée de notre vecteur. C'est la même chose que la méthode \"transpose\" : $\\texttt{v.T=v.transpose()}$. Lorsque nous sommes dans un cas simple la méthode $T$ est suffisante. Cependant, et vous vous en rendrez rapidement compte, certaines structures n'ont pas que deux axes contrairement aux vecteurs et aux matrices. Pour ces structures, la transposée (qui revient pour une matrice (ou un vecteur) à inverser lignes et colonnes) n'est pas évidente et il faut indiquer ce que l'on souhtaite inverser : $\\texttt{obj.transpose((1, 0, 2))}$ (ici on inverse lignes et colonnes en conservant la dernière dimension."
   ]
  },
  {
   "cell_type": "markdown",
   "metadata": {},
   "source": [
    "**Accès aux valeurs des vecteurs :** Les valeurs des tableaux Numpy sont accessibles de façon similaire aux listes simples en python. Gardez bien en tête que le système d'indiçage/indexation pour accéder aux éléments d'une liste/tableau se fait bien dans l'interval $[0;N-1]$ pour un tableau à N éléments. Il est également possible d'accéder et retourner en une seule ligne de commande aux plusieurs valeurs du vecteur en spécifiant un interval d'indices que l'on veut retourner. \n",
    "\n",
    "Par exemple, pour retourner de la composante (dimension) 2 à la composante 4 d'un vecteur:\n"
   ]
  },
  {
   "cell_type": "code",
   "execution_count": null,
   "metadata": {},
   "outputs": [],
   "source": [
    "y = x[2:4]  \n",
    "print(y)"
   ]
  },
  {
   "cell_type": "markdown",
   "metadata": {},
   "source": [
    "Le resultat est retourné sous la forme d'un nouveau vecteur y. On peut aussi retourner les 3 premières composantes du tableau comme suit:"
   ]
  },
  {
   "cell_type": "code",
   "execution_count": null,
   "metadata": {},
   "outputs": [],
   "source": [
    "print(x[:3])     # ici, \":3\" signifie du 1er aux 3 eme élément inclus"
   ]
  },
  {
   "cell_type": "markdown",
   "metadata": {},
   "source": [
    "ou bien retourner de la 3eme composante à la dernière comme ceci:"
   ]
  },
  {
   "cell_type": "code",
   "execution_count": null,
   "metadata": {},
   "outputs": [],
   "source": [
    "y = x[3:]     # ici, \"3:\" signifie du 3 eme (exclu) au dernier élément"
   ]
  },
  {
   "cell_type": "markdown",
   "metadata": {},
   "source": [
    "ou encore les deux dernières cases :"
   ]
  },
  {
   "cell_type": "code",
   "execution_count": null,
   "metadata": {},
   "outputs": [],
   "source": [
    "y = x[-2:]\n",
    "print(y)"
   ]
  },
  {
   "cell_type": "markdown",
   "metadata": {},
   "source": [
    "**Récupération de la dimension d'un vecteur:** examiner les dimensions du tableau $\\texttt{numpy}$ :\n",
    "\n",
    "\n",
    "Ici, on montre que l'on peut accéder aux dimensions des axes du tableau multidimensionnel avec l'attribut $\\textit{shape}$. Ce dernier renvoie les dimensions sous la forme d'un tuple. Dans notre cas, notre vecteur correspond à un tableau à un seul axe. La dimension d'un vecteur $\\mathbf{x}$ peut donc être obtenue comme suit:"
   ]
  },
  {
   "cell_type": "code",
   "execution_count": null,
   "metadata": {},
   "outputs": [],
   "source": [
    "print(x.shape)  #La valeur de la dimension du 1er (et seul) axe du tableau"
   ]
  },
  {
   "cell_type": "markdown",
   "metadata": {},
   "source": [
    "**Parcours des valeurs du vecteur :**\n",
    "\n",
    "Ici, on montre comment on peut boucler sur les éléments d'un vecteur de 3 façons : \n",
    "*  en itérant sur les indices puis en accédant aux valeurs via ces derniers, \n",
    "*  en itérant directement sur les éléments du tableau, \n",
    "*  et enfin, en itérant à la fois sur les indices ET les éléments avec $\\texttt{enumerate}$."
   ]
  },
  {
   "cell_type": "markdown",
   "metadata": {},
   "source": [
    "Parcourons les valeurs du vecteur $y$ en bouclant directement sur les éléments du vecteur. Notons ici qu'on n'incrémente plus directement sur les indices mais sur les élément du vecteur, pour retrouver l'indice en cours, on doit faire l'incrémentation à la main."
   ]
  },
  {
   "cell_type": "code",
   "execution_count": null,
   "metadata": {},
   "outputs": [],
   "source": [
    "i=0\n",
    "for x_i in x:\n",
    "    print(\"La valeur de la %d eme composante est: %f\" % (i, x_i))\n",
    "    i += 1"
   ]
  },
  {
   "cell_type": "markdown",
   "metadata": {},
   "source": [
    "Faisons la même chose avec la fonction $\\texttt{enumerate}$ afin d'avoir accès aux indices sans faire d'incrémentation."
   ]
  },
  {
   "cell_type": "code",
   "execution_count": null,
   "metadata": {},
   "outputs": [],
   "source": [
    "for i, x_i in enumerate(x):\n",
    "    print(\"La valeur de la %d eme composante est: %f\" % (i,x_i))"
   ]
  },
  {
   "cell_type": "markdown",
   "metadata": {},
   "source": [
    "**Récupérons les $n$ dernières composantes**"
   ]
  },
  {
   "cell_type": "markdown",
   "metadata": {},
   "source": [
    "Récupérons les 3 dernières composantes avec $\\texttt{x[dim-3:]}$ ou $\\texttt{x[-3:]}$ (on va de la composante dim-3 à la dernière ($\\texttt{:}$) :"
   ]
  },
  {
   "cell_type": "code",
   "execution_count": null,
   "metadata": {},
   "outputs": [],
   "source": [
    "dim = x.shape[0]\n",
    "print( x[dim-3:] )\n",
    "print(x[-3:])"
   ]
  },
  {
   "cell_type": "markdown",
   "metadata": {},
   "source": [
    "Récupérons les composantes en partant de l'indice $3$ jusqu'à la fin :"
   ]
  },
  {
   "cell_type": "code",
   "execution_count": null,
   "metadata": {},
   "outputs": [],
   "source": [
    "print(x[3:])"
   ]
  },
  {
   "cell_type": "markdown",
   "metadata": {},
   "source": [
    "Récupérons les composantes allant de l'indice 3 à 7 :"
   ]
  },
  {
   "cell_type": "code",
   "execution_count": null,
   "metadata": {},
   "outputs": [],
   "source": [
    "print(x[3:7])"
   ]
  },
  {
   "cell_type": "markdown",
   "metadata": {},
   "source": [
    "### PARTIE QUESTIONS : À VOUS DE JOUER !\n",
    "\n",
    "Dans cette partie vous serez amenés à utiliser certaines fonctions de calcul numpy très pratiques pour effectuer des opération d'algèbre linéaire tel qu'un produit scalaire entre deux vecteurs $\\mathbf{x}$ et $\\mathbf{y}$ (avec $\\texttt{np.dot(x,y)}$). Nous verrons par la suite qu'étant donné que le $\\texttt{ndarray}$ est un objet générique cette fonction \"produit scalaire\" de numpy peut également être utilisé pour les produits matriciels."
   ]
  },
  {
   "cell_type": "markdown",
   "metadata": {},
   "source": [
    "Soit les deux vecteurs suivants :"
   ]
  },
  {
   "cell_type": "code",
   "execution_count": null,
   "metadata": {},
   "outputs": [],
   "source": [
    "x = np.random.normal(0,1,size=4)\n",
    "y = np.random.normal(0,1,size=4)\n",
    "print(x, y)"
   ]
  },
  {
   "cell_type": "markdown",
   "metadata": {},
   "source": [
    "1) Addition des vecteurs : x + y :"
   ]
  },
  {
   "cell_type": "code",
   "execution_count": null,
   "metadata": {},
   "outputs": [],
   "source": []
  },
  {
   "cell_type": "markdown",
   "metadata": {},
   "source": [
    "2) Combinaison linéaire des vecteurs : 4.2 * x + 1.2 * y :"
   ]
  },
  {
   "cell_type": "code",
   "execution_count": null,
   "metadata": {},
   "outputs": [],
   "source": []
  },
  {
   "cell_type": "markdown",
   "metadata": {},
   "source": [
    "3) Lister avec une boucle les éléments de $x$ à la puissance 2 :"
   ]
  },
  {
   "cell_type": "code",
   "execution_count": null,
   "metadata": {},
   "outputs": [],
   "source": []
  },
  {
   "cell_type": "markdown",
   "metadata": {},
   "source": [
    "4) Générer et mettre dans un vecteur les éléments de x a la puissance 2 en une seule commande :"
   ]
  },
  {
   "cell_type": "code",
   "execution_count": null,
   "metadata": {},
   "outputs": [],
   "source": []
  },
  {
   "cell_type": "markdown",
   "metadata": {},
   "source": [
    "5) La somme des éléments de x avec une boucle :"
   ]
  },
  {
   "cell_type": "code",
   "execution_count": null,
   "metadata": {},
   "outputs": [],
   "source": []
  },
  {
   "cell_type": "markdown",
   "metadata": {},
   "source": [
    "6) La somme des éléments de x avec la primitive '$\\texttt{sum}$' de numpy :"
   ]
  },
  {
   "cell_type": "code",
   "execution_count": null,
   "metadata": {},
   "outputs": [],
   "source": []
  },
  {
   "cell_type": "markdown",
   "metadata": {},
   "source": [
    "7) Calculer la norme $\\ell_2$ (la norme euclidienne d'un vecteur est $\\lVert x\\rVert_2=\\sqrt{\\sum_i x_i^2}$) de $x$ avec une boucle en utilisant les points 3 et 5 :"
   ]
  },
  {
   "cell_type": "code",
   "execution_count": null,
   "metadata": {},
   "outputs": [],
   "source": []
  },
  {
   "cell_type": "markdown",
   "metadata": {},
   "source": [
    "8) Calculer la norme $\\ell_2$ de x sans boucle en utilisant les points 4 et 6 :"
   ]
  },
  {
   "cell_type": "code",
   "execution_count": null,
   "metadata": {},
   "outputs": [],
   "source": []
  },
  {
   "cell_type": "markdown",
   "metadata": {},
   "source": [
    "9) Calculer le produit scalaire entre x et y avec une boucle :"
   ]
  },
  {
   "cell_type": "code",
   "execution_count": null,
   "metadata": {},
   "outputs": [],
   "source": []
  },
  {
   "cell_type": "markdown",
   "metadata": {},
   "source": [
    "11) Calculer le produit scalaire entre x et y avec la primitive '$\\texttt{dot}$' de numpy :"
   ]
  },
  {
   "cell_type": "code",
   "execution_count": null,
   "metadata": {},
   "outputs": [],
   "source": []
  },
  {
   "cell_type": "markdown",
   "metadata": {},
   "source": [
    "## III. Opérations sur les matrices\n",
    "Cette partie est similaire à la précédente. Un point général sur la manière d'instancier les objets sera d'abord fait, puis, vous répondrez à une série de questions en implémentant les bouts de code demandés.\n",
    "\n",
    "On notera simplement que la différence avec l'instantiation d'un vecteur consiste à préciser les dimensions de deux axes du tableau numpy au lieu d'un seul et que l'accès se fait (presque) en considérant les deux axes comme vu précédemment."
   ]
  },
  {
   "cell_type": "markdown",
   "metadata": {},
   "source": [
    "**Matrice nulle dans $\\mathbb{R}^{2\\times 2}$ : M1 = np.zeros((2,2))**"
   ]
  },
  {
   "cell_type": "code",
   "execution_count": null,
   "metadata": {},
   "outputs": [],
   "source": [
    "M1 = np.zeros((2,2))\n",
    "print(M1)  "
   ]
  },
  {
   "cell_type": "markdown",
   "metadata": {},
   "source": [
    "**Matrice $\\mathbb{R}^{3\\times 3}$ remplie de 1 : M2 = np.ones((3,3))  :**"
   ]
  },
  {
   "cell_type": "code",
   "execution_count": null,
   "metadata": {},
   "outputs": [],
   "source": [
    "M2 = np.ones((3,3)) \n",
    "print(M2)  "
   ]
  },
  {
   "cell_type": "markdown",
   "metadata": {},
   "source": [
    "**Matrice $\\mathbb{R}^{4\\times 4}$ aleatoire : M3 = np.random.random((4,4))**"
   ]
  },
  {
   "cell_type": "code",
   "execution_count": null,
   "metadata": {},
   "outputs": [],
   "source": [
    "M3 = np.random.random((4,4))\n",
    "print(M3)"
   ]
  },
  {
   "cell_type": "markdown",
   "metadata": {},
   "source": [
    "**Matrice identite $\\mathbb{R}^{5\\times 5}$ : M4 = np.eye(5,5) :**"
   ]
  },
  {
   "cell_type": "code",
   "execution_count": null,
   "metadata": {},
   "outputs": [],
   "source": [
    "M4 = np.eye(5,5) \n",
    "print(M4)"
   ]
  },
  {
   "cell_type": "markdown",
   "metadata": {},
   "source": [
    "**Trouver les dimensions du Numpy array:**\n",
    "\n",
    "Soit deux matrices dans $\\mathbb{R}^{4\\times 4}$ M1 et M2 :"
   ]
  },
  {
   "cell_type": "code",
   "execution_count": null,
   "metadata": {},
   "outputs": [],
   "source": [
    "M1 = np.array([[1,2,3,4], [5,6,7,8], [9,10,11,12], [9,10,11,8]])\n",
    "M2 = np.array([[9,10,11,3], [5,6,7,8], [1,2,3,8], [9,10,11,7]])\n",
    "\n",
    "print(M1)\n",
    "print(M2)"
   ]
  },
  {
   "cell_type": "markdown",
   "metadata": {},
   "source": [
    "**Donnons les dimensions de la matrice M1**"
   ]
  },
  {
   "cell_type": "code",
   "execution_count": null,
   "metadata": {},
   "outputs": [],
   "source": [
    "size = M1.shape\n",
    "nb_lignes = size[0]    \n",
    "nb_colones= size[1]\n",
    "\n",
    "print(size)\n",
    "print(M1)"
   ]
  },
  {
   "cell_type": "markdown",
   "metadata": {},
   "source": [
    "### Parcours des valeurs de la matrice"
   ]
  },
  {
   "cell_type": "code",
   "execution_count": null,
   "metadata": {},
   "outputs": [],
   "source": [
    "for i in range(nb_lignes):\n",
    "    for j in range(nb_colones):\n",
    "        print(\"La valeur de la composante %d,%d est:  = %f\" % (i, j, M1[i,j]))"
   ]
  },
  {
   "cell_type": "markdown",
   "metadata": {},
   "source": [
    "**Donnons la valeur de l'élément de la $1^{\\text{ère}}$ ligne et de la $3^{\\text{ème}}$ colone de M1**"
   ]
  },
  {
   "cell_type": "code",
   "execution_count": null,
   "metadata": {},
   "outputs": [],
   "source": [
    "M1[0,2]"
   ]
  },
  {
   "cell_type": "markdown",
   "metadata": {},
   "source": [
    "**Parcourons les valeurs de la matrice M2 avec en bouclant sur les indices**"
   ]
  },
  {
   "cell_type": "code",
   "execution_count": null,
   "metadata": {},
   "outputs": [],
   "source": [
    "for i in range(M1.shape[0]):\n",
    "    for j in range(M1.shape[1]):\n",
    "        print(\"La valeur de la composante %d,%d est:  = %d\" % (i, j, M1[i,j]))"
   ]
  },
  {
   "cell_type": "markdown",
   "metadata": {},
   "source": [
    "**Parcourons les vecteurs lignes de la matrice M2 en bouclant directement sur les éléments du vecteur**"
   ]
  },
  {
   "cell_type": "code",
   "execution_count": null,
   "metadata": {},
   "outputs": [],
   "source": [
    "for v_i in M2:\n",
    "    print(v_i)"
   ]
  },
  {
   "cell_type": "markdown",
   "metadata": {},
   "source": [
    "**Parcourons les vecteurs colonnes de la matrice M2 en bouclant directement sur les elements du vecteur**\n",
    "\n",
    "Astuce, baladez vous dans les vecteurs lignes de la transposée de la matrice."
   ]
  },
  {
   "cell_type": "code",
   "execution_count": null,
   "metadata": {},
   "outputs": [],
   "source": [
    "for v_j in M2.T:\n",
    "    print(v_j)"
   ]
  },
  {
   "cell_type": "markdown",
   "metadata": {},
   "source": [
    "**Récupérons les 2 premiers vecteurs ligne de M1 en une seule ligne de commande**\n",
    "\n",
    "Quand on ne specifie pas les indices des 2 champs, on a implicitement accès aux indices des lignes seuls"
   ]
  },
  {
   "cell_type": "code",
   "execution_count": null,
   "metadata": {},
   "outputs": [],
   "source": [
    "M1[:2] #Equivalent a M1[:2 , :]"
   ]
  },
  {
   "cell_type": "markdown",
   "metadata": {},
   "source": [
    "**Récupérons en une seule ligne de commande les 2 derniers vecteurs colonnes de la matrices M1**\n",
    "\n",
    "Ici on veut agir sur les colonnes, on doit donc cpécifier les intervalles sur les lignes ET les colones."
   ]
  },
  {
   "cell_type": "code",
   "execution_count": null,
   "metadata": {},
   "outputs": [],
   "source": [
    "nb_col = M1.shape[1]\n",
    "M1_transpose = M1.T\n",
    "print(M1_transpose[nb_col - 2:])"
   ]
  },
  {
   "cell_type": "markdown",
   "metadata": {},
   "source": [
    " ### PARTIE QUESTIONS : À VOUS DE JOUER !\n",
    "\n",
    "Dans les questions, vous aurez à comprendre comment on effectue un produit matriciel entre deux matrices ou bien entre une matrice et un vecteur. Vous verrez deux manières de procéder: avec une boucle, et avec la primitive $\\texttt{dot(,)}$ de $\\texttt{numpy}$. Le script vous permet de calculer le temps mis pour effecteur ces deux calculs. Pensez bien à écrire votre code entre les deux instructions suivante :"
   ]
  },
  {
   "cell_type": "code",
   "execution_count": null,
   "metadata": {},
   "outputs": [],
   "source": [
    "import time\n",
    "start_time = time.time()\n",
    "# Votre code pour le produit matricielle ici\n",
    "stop_time =  time.time()"
   ]
  },
  {
   "cell_type": "markdown",
   "metadata": {},
   "source": [
    "Comme vous le verrez, la fonction numpy $\\texttt{dot}$ est beaucoup plus rapide que votre implémentation à base de boucles car cette fonction optimise très bien les calculs de nature vectorielle. C'est pourquoi il sera toujours intéressant d'écrire vos équations en notation vectorielle afin de les implémenter simplement et efficacement par la suite.\n",
    "\n",
    "**Note importante :** L'important à retenir est qu'on peut considérer une matrice soit comme une application linéaire soit comme un ensemble de vecteurs (chaque ligne correspond à un vecteur d'apprentissage par exemple). Le produit matricielle entre une matrice $\\mathbf{M1}$ de dimensions $n\\times k$ ($n$ lignes et $k$ colonnes) et une autre $\\mathbf{M2}$ de dimension $k\\times m$ donnera un résultat $\\mathbf{M1}\\mathbf{M2}$ (calculé avec np.dot(M1,M2)) de dimensions $n\\times m$. Autrement dit, le nombre de colonnes de la première matrice doit être égale au nombre de lignes de la seconde. Un vecteur $\\mathbf{x} \\in \\mathbb{R}^d$ correspond à une matrice de dimension $d\\times 1$. On pourra donc calculer le résultat de l'application linéaire décrite par la matrice $\\mathbf{M}$ de dimensions $n$ x $d$ sur le vecteur $\\mathbf{x}$ de dimensions $d$ x $1$ avec np.dot(M,x). Le résultat sera un vecteur $\\mathbf{y} \\in \\mathbb{R}^n$ (représenté par un tableau de dimensions $n$ x $1$). \\\\\n",
    "\n",
    "**Intuitivement,** appliquer linéairement $\\mathbf{M}$ de dimensions $n\\times d$ à $\\mathbf{x} \\in \\mathbb{R}^d $ revient à \"**empiler**\" les résultats des produits scalaires entre $\\mathbf{x}$ et chacun des vecteurs colonne de $\\mathbf{M}$. S'il y a $n$ colonnes, il y aura donc $n$ produits scalaires et donc $n$ valeurs dans le vecteur résultat. Les composantes du vecteur résultat correspondent ainsi aux similarités (au sens de la métrique du produit scalaire) entre $\\mathbf{x} \\in  \\mathbb{R}^d$ et une base de $n$ vecteurs dans $\\mathbb{R}^d$.\n",
    "\n",
    "\n",
    "**Astuce :** Un vecteur de dimension $\\texttt{(n,)}$ est sémantiquement la même chose qu'un vecteur de dimension $\\texttt{(n,1)}$. Cependant, ils ne sont pas vu de la même manière par $\\texttt{numpy}$. Pour cela, vous pouvez utiliser la méthode \"$\\texttt{reshape}$\" :\n"
   ]
  },
  {
   "cell_type": "code",
   "execution_count": null,
   "metadata": {},
   "outputs": [],
   "source": [
    "v = np.random.random(2)\n",
    "print(v)\n",
    "v = v.reshape((2, 1))\n",
    "print(v)"
   ]
  },
  {
   "cell_type": "markdown",
   "metadata": {},
   "source": [
    "1) Addition de M1  M2 :"
   ]
  },
  {
   "cell_type": "code",
   "execution_count": null,
   "metadata": {},
   "outputs": [],
   "source": []
  },
  {
   "cell_type": "markdown",
   "metadata": {},
   "source": [
    "2) Multiplication terme a terme de M1  M2 :"
   ]
  },
  {
   "cell_type": "code",
   "execution_count": null,
   "metadata": {},
   "outputs": [],
   "source": []
  },
  {
   "cell_type": "markdown",
   "metadata": {},
   "source": [
    "3) Afficher avec une boucle les éléments de M1 à la puissance 2 :"
   ]
  },
  {
   "cell_type": "code",
   "execution_count": null,
   "metadata": {},
   "outputs": [],
   "source": []
  },
  {
   "cell_type": "markdown",
   "metadata": {},
   "source": [
    "4) Générer la matrice M3 contenant les éléments de M1 à la puissance 2 en une seule commande :"
   ]
  },
  {
   "cell_type": "code",
   "execution_count": null,
   "metadata": {},
   "outputs": [],
   "source": []
  },
  {
   "cell_type": "markdown",
   "metadata": {},
   "source": [
    "5) La somme des éléments de M1 avec une boucle:"
   ]
  },
  {
   "cell_type": "code",
   "execution_count": null,
   "metadata": {},
   "outputs": [],
   "source": []
  },
  {
   "cell_type": "markdown",
   "metadata": {},
   "source": [
    "6) La somme des éléments de M1 avec la primitive '$\\texttt{sum}$' de numpy:"
   ]
  },
  {
   "cell_type": "code",
   "execution_count": null,
   "metadata": {},
   "outputs": [],
   "source": []
  },
  {
   "cell_type": "markdown",
   "metadata": {},
   "source": [
    "7) Cherchez dans vos souvenir ou sur internet et implementez la formule permettant de calculer le produit matriciel (different du produit terme a terme !) entre M1 et M2 avec une boucle :"
   ]
  },
  {
   "cell_type": "code",
   "execution_count": null,
   "metadata": {},
   "outputs": [],
   "source": [
    "#On va calculer le temps que cela met avec une boucle\n",
    "#On comparera par la suite ce temps avec celui prit par une autre methode\n",
    "start_time = time.time()\n",
    "M1M2 = np.zeros(M1.shape)       \n",
    "print(M1M2.shape) # M1M2 doit contenir le resultats de votre calcul\n",
    "## Your code here\n",
    "stop_time =  time.time()\n",
    "\n",
    "print(M1M2)\n",
    "print(\"\\nTemps de calcul = %f secondes\" % (stop_time - start_time))"
   ]
  },
  {
   "cell_type": "markdown",
   "metadata": {},
   "source": [
    "8) Calculer le produit matricielle entre M1 et M2 avec la primitive '$\\texttt{dot}$' de numpy :"
   ]
  },
  {
   "cell_type": "code",
   "execution_count": null,
   "metadata": {},
   "outputs": [],
   "source": [
    "start_time = time.time()\n",
    "# Your code here\n",
    "M1M2 = 0       # retourner le resultat\n",
    "stop_time =  time.time()\n",
    "\n",
    "print(M1M2)\n",
    "print(\"\\nTemps de calcul = %f secondes\" % (stop_time - start_time))"
   ]
  },
  {
   "cell_type": "markdown",
   "metadata": {},
   "source": [
    "9) Soit la matrice M3 suivante (aléatoire mais ce n'est pas ce qui est important ici). Calculer le produit matricielle entre M1 et M3 avec la primitive 'dot' de numpy (attention aux dimensions des deux matrices !) :"
   ]
  },
  {
   "cell_type": "code",
   "execution_count": null,
   "metadata": {},
   "outputs": [],
   "source": [
    "M3 = np.random.random((10,4)) \n",
    "#Your code here"
   ]
  },
  {
   "cell_type": "markdown",
   "metadata": {},
   "source": [
    "11) Calculer le produit matricielle entre $\\langle x, M3\\rangle$ avec la primitive '$\\texttt{dot}$' de numpy :"
   ]
  },
  {
   "cell_type": "code",
   "execution_count": null,
   "metadata": {},
   "outputs": [],
   "source": []
  },
  {
   "cell_type": "markdown",
   "metadata": {},
   "source": [
    "12) Calculer le produit matricielle entre $\\langle M3 , x\\rangle$ avec la primitive '$\\texttt{dot}$' de numpy (qu'est ce qui change ?) :\n",
    "\n",
    "HINT: Pensez à la transposée de vos structures pour aligner leurs dimensions !"
   ]
  },
  {
   "cell_type": "code",
   "execution_count": null,
   "metadata": {},
   "outputs": [],
   "source": []
  }
 ],
 "metadata": {
  "kernelspec": {
   "display_name": "Python 3",
   "language": "python",
   "name": "python3"
  },
  "language_info": {
   "codemirror_mode": {
    "name": "ipython",
    "version": 3
   },
   "file_extension": ".py",
   "mimetype": "text/x-python",
   "name": "python",
   "nbconvert_exporter": "python",
   "pygments_lexer": "ipython3",
   "version": "3.9.4"
  }
 },
 "nbformat": 4,
 "nbformat_minor": 4
}
